{
  "cells": [
    {
      "cell_type": "code",
      "execution_count": null,
      "metadata": {
        "id": "oAi9VyEJjEBn"
      },
      "outputs": [],
      "source": [
        "import numpy as np # linear algebra\n",
        "import pandas as pd # data processing, CSV file I/O (e.g. pd.read_csv)\n",
        "import keras\n",
        "from keras.models import Sequential\n",
        "from keras.layers import Conv2D, Flatten, Dense, MaxPooling2D, Dropout\n",
        "from sklearn.metrics import accuracy_score\n",
        "from keras.applications import VGG16"
      ]
    },
    {
      "cell_type": "code",
      "execution_count": null,
      "metadata": {
        "id": "eTqTDa-SjGjv"
      },
      "outputs": [],
      "source": [
        "from google.colab import drive\n",
        "drive.mount('/content/drive')"
      ]
    },
    {
      "cell_type": "code",
      "execution_count": null,
      "metadata": {
        "id": "HXEq8iGqjGms"
      },
      "outputs": [],
      "source": [
        "import ipywidgets as widgets\n",
        "import io\n",
        "import os\n",
        "from PIL import Image\n",
        "import tqdm\n",
        "from sklearn.model_selection import train_test_split\n",
        "import cv2\n",
        "from sklearn.utils import shuffle\n",
        "import tensorflow as tf"
      ]
    },
    {
      "cell_type": "code",
      "execution_count": null,
      "metadata": {
        "id": "AxiQ1UAgjGr6"
      },
      "outputs": [],
      "source": [
        "X_train = []\n",
        "y_train = []\n",
        "image_size = 150"
      ]
    },
    {
      "cell_type": "code",
      "execution_count": null,
      "metadata": {
        "id": "OI7OWTwbjGvE"
      },
      "outputs": [],
      "source": [
        "train_path = '/content/drive/MyDrive/BRAIN TUMOR MAIN/Training'\n",
        "labels = os.listdir(train_path)\n",
        "print(labels)"
      ]
    },
    {
      "cell_type": "code",
      "execution_count": null,
      "metadata": {
        "id": "iULors1_jGy2"
      },
      "outputs": [],
      "source": [
        "for i in labels:\n",
        "    folder_path = os.path.join(train_path, i)\n",
        "    for j in os.listdir(folder_path):\n",
        "        img = cv2.imread(os.path.join(folder_path, j))\n",
        "        img = cv2.resize(img, (image_size, image_size))\n",
        "        X_train.append(img)\n",
        "        y_train.append(i)"
      ]
    },
    {
      "cell_type": "code",
      "execution_count": null,
      "metadata": {
        "id": "ZgRiwFLzjG12"
      },
      "outputs": [],
      "source": [
        "test_path = '/content/drive/MyDrive/BRAIN TUMOR MAIN/Training'\n"
      ]
    },
    {
      "cell_type": "code",
      "execution_count": null,
      "metadata": {
        "id": "H3nMHux_jG47"
      },
      "outputs": [],
      "source": [
        "for i in labels:\n",
        "    folder_path = os.path.join(test_path, i)\n",
        "    for j in os.listdir(folder_path):\n",
        "        img = cv2.imread(os.path.join(folder_path, j))\n",
        "        img = cv2.resize(img, (image_size, image_size))"
      ]
    },
    {
      "cell_type": "code",
      "execution_count": null,
      "metadata": {
        "id": "qo_4jeu6jSL2"
      },
      "outputs": [],
      "source": [
        "X_train.append(img)\n",
        "y_train.append(i)"
      ]
    },
    {
      "cell_type": "code",
      "execution_count": null,
      "metadata": {
        "id": "KUju8haAjSO3"
      },
      "outputs": [],
      "source": [
        "X_train[1]"
      ]
    },
    {
      "cell_type": "code",
      "execution_count": null,
      "metadata": {
        "id": "E1mimcFCjSVr"
      },
      "outputs": [],
      "source": [
        "y_train[1]"
      ]
    },
    {
      "cell_type": "code",
      "execution_count": null,
      "metadata": {
        "id": "Dk6GpXtcjSZp"
      },
      "outputs": [],
      "source": [
        "# X_train.shape, y_train.shape\n",
        "len(X_train), len(y_train)\n"
      ]
    },
    {
      "cell_type": "code",
      "execution_count": null,
      "metadata": {
        "id": "P8ImpkHFjSck"
      },
      "outputs": [],
      "source": [
        "X_train = np.array(X_train)\n",
        "y_train = np.array(y_train)\n"
      ]
    },
    {
      "cell_type": "code",
      "execution_count": null,
      "metadata": {
        "id": "lmg9dEsAjeRg"
      },
      "outputs": [],
      "source": [
        "X_train.shape, y_train.shape"
      ]
    },
    {
      "cell_type": "code",
      "execution_count": null,
      "metadata": {
        "id": "YjT5gFEHjeVT"
      },
      "outputs": [],
      "source": [
        "X_train[1]"
      ]
    },
    {
      "cell_type": "code",
      "execution_count": null,
      "metadata": {
        "id": "80BIyRxejeYz"
      },
      "outputs": [],
      "source": [
        "y_train[1]"
      ]
    },
    {
      "cell_type": "code",
      "execution_count": null,
      "metadata": {
        "id": "akwZOi4Ajeb4"
      },
      "outputs": [],
      "source": [
        "X_train, y_train = shuffle(X_train, y_train, random_state = 99)\n",
        "X_train.shape, y_train.shape"
      ]
    },
    {
      "cell_type": "code",
      "execution_count": null,
      "metadata": {
        "id": "1ogxVx6YjlU6"
      },
      "outputs": [],
      "source": [
        "X_train, X_test, y_train, y_test = train_test_split(X_train, y_train, test_size = 0.1, random_state = 100)\n"
      ]
    },
    {
      "cell_type": "code",
      "execution_count": null,
      "metadata": {
        "id": "KYJqBvyGjlYB"
      },
      "outputs": [],
      "source": [
        "y_train[:5]"
      ]
    },
    {
      "cell_type": "code",
      "execution_count": null,
      "metadata": {
        "id": "C4KmXPcijlbz"
      },
      "outputs": [],
      "source": [
        "y_train_new = []\n",
        "for i in y_train:\n",
        "    y_train_new.append(labels.index(i))\n",
        "y_train_new[:5]"
      ]
    },
    {
      "cell_type": "code",
      "execution_count": null,
      "metadata": {
        "id": "yOE65p1wjqF9"
      },
      "outputs": [],
      "source": [
        "y_train_new = tf.keras.utils.to_categorical(y_train_new)\n",
        "y_train_new"
      ]
    },
    {
      "cell_type": "code",
      "execution_count": null,
      "metadata": {
        "id": "FDfVB4BjjqJP"
      },
      "outputs": [],
      "source": [
        "y_test_new = []\n",
        "for i in y_test:\n",
        "    y_test_new.append(labels.index(i))\n",
        "y_test_new = tf.keras.utils.to_categorical(y_test_new)\n",
        "y_test_new"
      ]
    },
    {
      "cell_type": "code",
      "execution_count": null,
      "metadata": {
        "id": "vGOvM_7LjqM0"
      },
      "outputs": [],
      "source": [
        "model = Sequential()"
      ]
    },
    {
      "cell_type": "code",
      "execution_count": null,
      "metadata": {
        "id": "cq_42XMJjqP6"
      },
      "outputs": [],
      "source": [
        "vgg = VGG16(weights='imagenet', include_top=False, input_shape=(image_size, image_size, 3))"
      ]
    },
    {
      "cell_type": "code",
      "execution_count": null,
      "metadata": {
        "id": "1KW3N7E8jxLA"
      },
      "outputs": [],
      "source": [
        "for layer in vgg.layers:\n",
        "    layer.trainable = False"
      ]
    },
    {
      "cell_type": "code",
      "execution_count": null,
      "metadata": {
        "id": "gGHaaNOqjxOt"
      },
      "outputs": [],
      "source": [
        "model.add(vgg)"
      ]
    },
    {
      "cell_type": "code",
      "execution_count": null,
      "metadata": {
        "id": "wdUpFbJdjxSm"
      },
      "outputs": [],
      "source": [
        "model.add(Flatten())\n",
        "model.add(Dense(1024, activation='relu'))\n",
        "model.add(Dropout(0.5))\n",
        "model.add(Dense(512, activation='relu'))\n",
        "model.add(Dropout(0.5))\n",
        "model.add(Dense(4, activation='softmax'))"
      ]
    },
    {
      "cell_type": "code",
      "execution_count": null,
      "metadata": {
        "id": "ozhZJVlLj1DF"
      },
      "outputs": [],
      "source": [
        "model.summary()"
      ]
    },
    {
      "cell_type": "code",
      "execution_count": null,
      "metadata": {
        "id": "JHbDCrA-j1Jg"
      },
      "outputs": [],
      "source": [
        "model.compile(\n",
        "    loss = 'categorical_crossentropy',\n",
        "    optimizer = 'Adam',\n",
        "    metrics = ['accuracy']\n",
        ")"
      ]
    },
    {
      "cell_type": "code",
      "execution_count": null,
      "metadata": {
        "colab": {
          "base_uri": "https://localhost:8080/"
        },
        "id": "kEdRk9Bvj1Mp",
        "outputId": "89cbb45d-efca-4ef0-c846-196d73a4b4cb"
      },
      "outputs": [
        {
          "output_type": "stream",
          "name": "stdout",
          "text": [
            " 98/137 [====================>.........] - ETA: 5:39 - loss: 0.3380 - accuracy: 0.9104"
          ]
        }
      ],
      "source": [
        "hist = model.fit(X_train, y_train_new, epochs = 10, validation_split = 0.1)"
      ]
    },
    {
      "cell_type": "code",
      "execution_count": null,
      "metadata": {
        "id": "s1H_XYnYj1Py"
      },
      "outputs": [],
      "source": [
        "model.save(\"Brain_Tumor_Image_Classification_Model.h5\")\n"
      ]
    },
    {
      "cell_type": "code",
      "execution_count": null,
      "metadata": {
        "id": "V5uzDddGj1TG"
      },
      "outputs": [],
      "source": [
        "acc = hist.history['accuracy']\n",
        "val_acc = hist.history['val_accuracy']"
      ]
    },
    {
      "cell_type": "code",
      "execution_count": null,
      "metadata": {
        "id": "k_buZvQ2j-ME"
      },
      "outputs": [],
      "source": [
        "import matplotlib.pyplot as plt\n",
        "import seaborn as sns"
      ]
    },
    {
      "cell_type": "code",
      "execution_count": null,
      "metadata": {
        "id": "t4LyAwx1j-Ph"
      },
      "outputs": [],
      "source": [
        "epochs = range(len(acc))\n",
        "fig = plt.figure(figsize = (14,7))\n",
        "plt.plot(epochs, acc, 'r', label = 'Training Accuracy')\n",
        "plt.plot(epochs, val_acc, 'b', label = 'Validation Accuracy')\n",
        "plt.legend(loc = 'upper left')\n",
        "plt.show()"
      ]
    },
    {
      "cell_type": "code",
      "execution_count": null,
      "metadata": {
        "id": "91DNUEIlj-Tb"
      },
      "outputs": [],
      "source": [
        "loss = hist.history['loss']\n",
        "val_loss = hist.history['val_loss']"
      ]
    },
    {
      "cell_type": "code",
      "execution_count": null,
      "metadata": {
        "id": "WlfuZXVJj-a-"
      },
      "outputs": [],
      "source": [
        "epochs = range(len(acc))\n",
        "fig = plt.figure(figsize = (14,7))\n",
        "plt.plot(epochs, loss, 'r', label = 'Training Loss')\n",
        "plt.plot(epochs, val_loss, 'b', label = 'Validation Loss')\n",
        "plt.legend(loc = 'upper left')\n",
        "plt.show()"
      ]
    },
    {
      "cell_type": "code",
      "execution_count": null,
      "metadata": {
        "id": "PWD4o7JGkJwL"
      },
      "outputs": [],
      "source": [
        "img_path = '/content/drive/MyDrive/Brain_tumor4/Testing/meningioma/Te-meTr_0001.jpg'\n",
        "img = cv2.imread(img_path)\n",
        "img = cv2.resize(img, (150, 150))\n",
        "img_array = np.array(img)\n",
        "img_array.shape"
      ]
    },
    {
      "cell_type": "code",
      "execution_count": null,
      "metadata": {
        "id": "PDpz265VkJzS"
      },
      "outputs": [],
      "source": [
        "img_array = img_array.reshape(1,150,150,3)\n",
        "img_array.shape"
      ]
    },
    {
      "cell_type": "code",
      "execution_count": null,
      "metadata": {
        "id": "JN51XIExkJ2y"
      },
      "outputs": [],
      "source": [
        "from tensorflow.keras.preprocessing import image"
      ]
    },
    {
      "cell_type": "code",
      "execution_count": null,
      "metadata": {
        "id": "7kQ6mEHEkJ8t"
      },
      "outputs": [],
      "source": [
        "img = image.load_img(img_path)\n",
        "plt.imshow(img, interpolation = 'nearest')\n",
        "plt.show()"
      ]
    },
    {
      "cell_type": "code",
      "execution_count": null,
      "metadata": {
        "id": "9PUFLA7PkRl-"
      },
      "outputs": [],
      "source": [
        "a = model.predict(img_array)\n",
        "print(a)"
      ]
    },
    {
      "cell_type": "code",
      "execution_count": null,
      "metadata": {
        "id": "LDGmKWJpkRpN"
      },
      "outputs": [],
      "source": [
        "indices = a.argmax()\n",
        "indices"
      ]
    },
    {
      "cell_type": "code",
      "execution_count": null,
      "metadata": {
        "id": "WISsqpb-kRtR"
      },
      "outputs": [],
      "source": [
        "labels[indices]"
      ]
    },
    {
      "cell_type": "code",
      "execution_count": null,
      "metadata": {
        "id": "GQxu8ZkSxZev"
      },
      "outputs": [],
      "source": [
        "img_path = '/content/drive/MyDrive/Brain_tumor4/Testing/pituitary/Te-piTr_0003.jpg'\n",
        "img = cv2.imread(img_path)\n",
        "img = cv2.resize(img, (150, 150))\n",
        "img_array = np.array(img)\n",
        "img_array.shape"
      ]
    },
    {
      "cell_type": "code",
      "execution_count": null,
      "metadata": {
        "id": "zpW29VUGxhZ4"
      },
      "outputs": [],
      "source": [
        "img_array = img_array.reshape(1,150,150,3)\n",
        "img_array.shape"
      ]
    },
    {
      "cell_type": "code",
      "execution_count": null,
      "metadata": {
        "id": "l8n87iiIxkl7"
      },
      "outputs": [],
      "source": [
        "from tensorflow.keras.preprocessing import image"
      ]
    },
    {
      "cell_type": "code",
      "execution_count": null,
      "metadata": {
        "id": "ZWHsxMlDxnba"
      },
      "outputs": [],
      "source": [
        "img = image.load_img(img_path)\n",
        "plt.imshow(img, interpolation = 'nearest')\n",
        "plt.show()"
      ]
    },
    {
      "cell_type": "code",
      "execution_count": null,
      "metadata": {
        "id": "d7-NDVXyxqce"
      },
      "outputs": [],
      "source": [
        "a = model.predict(img_array)\n",
        "print(a)"
      ]
    },
    {
      "cell_type": "code",
      "execution_count": null,
      "metadata": {
        "id": "tRCOi2qXxtLS"
      },
      "outputs": [],
      "source": [
        "indices = a.argmax()\n",
        "indices"
      ]
    },
    {
      "cell_type": "code",
      "execution_count": null,
      "metadata": {
        "id": "2Lx_5Wf-xwW0"
      },
      "outputs": [],
      "source": [
        "labels[indices]"
      ]
    }
  ],
  "metadata": {
    "colab": {
      "provenance": []
    },
    "kernelspec": {
      "display_name": "Python 3",
      "name": "python3"
    },
    "language_info": {
      "name": "python"
    }
  },
  "nbformat": 4,
  "nbformat_minor": 0
}